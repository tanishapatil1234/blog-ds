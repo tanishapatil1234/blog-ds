{
 "cells": [
  {
   "attachments": {},
   "cell_type": "markdown",
   "metadata": {},
   "source": [
    "# Visualizing the Carbon Footprint Gap\n",
    "> Are the rich responsible for a majority of the CO2 emissions? \n",
    "\n",
    "- title: Visualizing the Carbon Footprint Gap\n",
    "- toc: true\n",
    "- categories: []\n",
    "- image: /images/co2.jpg\n",
    "- type: pbl"
   ]
  },
  {
   "cell_type": "code",
   "execution_count": 1,
   "metadata": {},
   "outputs": [],
   "source": [
    "import pandas as pd \n",
    "import numpy as np \n",
    "import matplotlib.pyplot as plt "
   ]
  },
  {
   "cell_type": "code",
   "execution_count": 114,
   "metadata": {},
   "outputs": [],
   "source": [
    "# creating sqlite table\n",
    "import sqlite3\n",
    "from sqlite3 import Error\n",
    "def create_connection(db_file):\n",
    "    \"\"\" create a database connection to the SQLite database\n",
    "        specified by db_file\n",
    "    :param db_file: database file\n",
    "    :return: Connection object or None\n",
    "    \"\"\"\n",
    "    conn = None\n",
    "    try:\n",
    "        conn = sqlite3.connect(db_file)\n",
    "        return conn\n",
    "    except Error as e:\n",
    "        print(e)\n",
    "\n",
    "    return conn\n",
    "def create_table(conn, create_table_sql):\n",
    "    \"\"\" create a table from the create_table_sql statement\n",
    "    :param conn: Connection object\n",
    "    :param create_table_sql: a CREATE TABLE statement\n",
    "    :return:\n",
    "    \"\"\"\n",
    "    try:\n",
    "        c = conn.cursor()\n",
    "        c.execute(create_table_sql)\n",
    "    except Error as e:\n",
    "        print(e)\n",
    "def main():\n",
    "    database = \"instance/energy.db\"\n",
    "\n",
    "    sql_create_projects_table = \"\"\" CREATE TABLE IF NOT EXISTS energy (\n",
    "                                        id PRIMARY KEY,\n",
    "                                        country text NOT NULL,\n",
    "                                        e_type text NOT NULL,\n",
    "                                        year integer NOT NULL,\n",
    "                                        gdp integer NOT NULL, \n",
    "                                        CO2_emission\n",
    "                                    ); \"\"\"\n",
    "    sql_create_temp_table = \"\"\" CREATE TABLE IF NOT EXISTS temp (\n",
    "                                        country text NOT NULL,\n",
    "                                        e_type text NOT NULL,\n",
    "                                        year integer NOT NULL,\n",
    "                                        gdp integer NOT NULL, \n",
    "                                        CO2_emission\n",
    "                                    ); \"\"\"\n",
    "\n",
    "    # create a database connection\n",
    "    conn = create_connection(database)\n",
    "\n",
    "    # create tables\n",
    "    if conn is not None:\n",
    "        # create projects table\n",
    "        create_table(conn, sql_create_projects_table)\n",
    "        create_table(conn, sql_create_temp_table)\n",
    "    else:\n",
    "        print(\"Error! cannot create the database connection.\")\n",
    "if __name__ == '__main__':\n",
    "    main()"
   ]
  },
  {
   "cell_type": "code",
   "execution_count": 95,
   "metadata": {},
   "outputs": [],
   "source": [
    "import pandas as pd \n",
    "\n",
    "df = pd.read_csv('files/energy.csv', usecols = ['Country','Energy_type','Year','GDP','CO2_emission' ])\n",
    "df.to_csv('files/energy1.csv')"
   ]
  },
  {
   "cell_type": "code",
   "execution_count": 116,
   "metadata": {},
   "outputs": [],
   "source": [
    "# Populate\n",
    "import sqlite3 as sq\n",
    "import pandas as pd\n",
    "\n",
    "connection = sq.connect('instance/energy.db')\n",
    " \n",
    "# Create a cursor object\n",
    "curs = connection.cursor()\n",
    " \n",
    "student = pd.read_csv('files/energy1.csv')\n",
    " \n",
    "# Write the data to a sqlite db table\n",
    "student.to_sql('energy', connection, if_exists='replace', index=False)\n",
    "   \n",
    "# Run select sql query\n",
    "curs.execute('select * from energy')\n",
    " \n",
    "# Fetch all records\n",
    "# as list of tuples\n",
    "records = curs.fetchall()\n",
    "     \n",
    "# Close connection to SQLite database\n",
    "connection.close()"
   ]
  },
  {
   "cell_type": "code",
   "execution_count": 121,
   "metadata": {},
   "outputs": [],
   "source": [
    "import sqlite3\n",
    "\n",
    "# connect to the database\n",
    "\n",
    "conn = sqlite3.connect('instance/energy.db')\n",
    "\n",
    "\n",
    "\n",
    "# create a cursor object\n",
    "cursor = conn.cursor()\n",
    "\n",
    "# execute a SELECT query to retrieve all rows from the energy table\n",
    "\n",
    "cursor.execute(\"DELETE FROM energy WHERE Country = 'World'\")\n",
    "\n",
    "# commit the changes to the database\n",
    "conn.commit()\n",
    "\n",
    "# close the cursor and connection\n",
    "cursor.close()\n",
    "conn.close()\n"
   ]
  },
  {
   "cell_type": "code",
   "execution_count": 127,
   "metadata": {},
   "outputs": [],
   "source": [
    "# x-val list\n",
    "import sqlite3\n",
    "\n",
    "# Connect to SQLite database\n",
    "conn = sqlite3.connect('instance/energy.db')\n",
    "c = conn.cursor()\n",
    "\n",
    "# Execute SQL query to retrieve column data\n",
    "c.execute(\"SELECT GDP FROM energy\")\n",
    "\n",
    "# Fetch all rows and store column data in a list\n",
    "x_list = [row[0] for row in c.fetchall()]\n",
    "\n",
    "# Close database connection\n",
    "conn.close()\n"
   ]
  },
  {
   "cell_type": "code",
   "execution_count": 128,
   "metadata": {},
   "outputs": [],
   "source": [
    "# y val list\n",
    "import sqlite3\n",
    "\n",
    "# Connect to SQLite database\n",
    "conn = sqlite3.connect('instance/energy.db')\n",
    "c = conn.cursor()\n",
    "\n",
    "# Execute SQL query to retrieve column data\n",
    "c.execute(\"SELECT CO2_emission FROM energy\")\n",
    "\n",
    "# Fetch all rows and store column data in a list\n",
    "y_list = [row[0] for row in c.fetchall()]\n",
    "\n",
    "# Close database connection\n",
    "conn.close()"
   ]
  },
  {
   "cell_type": "code",
   "execution_count": 138,
   "metadata": {},
   "outputs": [],
   "source": [
    "# y val list\n",
    "import sqlite3\n",
    "\n",
    "# Connect to SQLite database\n",
    "conn = sqlite3.connect('instance/energy.db')\n",
    "c = conn.cursor()\n",
    "\n",
    "# Execute SQL query to retrieve column data\n",
    "c.execute(\"SELECT Country FROM energy\")\n",
    "\n",
    "# Fetch all rows and store column data in a list\n",
    "c_list = [row[0] for row in c.fetchall()]\n",
    "\n",
    "# Close database connection\n",
    "conn.close()"
   ]
  },
  {
   "cell_type": "code",
   "execution_count": 140,
   "metadata": {},
   "outputs": [
    {
     "name": "stdout",
     "output_type": "stream",
     "text": [
      "                 Country        GDP  CO2 Emissions\n",
      "0            Afghanistan   79.45460       9.391163\n",
      "1                Albania   38.26840       4.031302\n",
      "2                Algeria  509.06600     145.987969\n",
      "3                 Angola  193.82600      17.644577\n",
      "4    Antigua and Barbuda    2.12893       0.734889\n",
      "..                   ...        ...            ...\n",
      "195            Venezuela  190.14720     131.485055\n",
      "196              Vietnam  915.50400     241.806422\n",
      "197                Yemen   53.08380       8.292505\n",
      "198               Zambia  247.18190       7.096290\n",
      "199             Zimbabwe   37.62040       8.964759\n",
      "\n",
      "[200 rows x 3 columns]\n"
     ]
    },
    {
     "data": {
      "image/png": "[encoded data removed]",
      "text/plain": [
       "<Figure size 432x288 with 1 Axes>"
      ]
     },
     "metadata": {
      "needs_background": "light"
     },
     "output_type": "display_data"
    }
   ],
   "source": [
    "# import all the libraries\n",
    "import numpy as np\n",
    "import pandas as pd\n",
    "import matplotlib.pyplot as plt\n",
    "\n",
    "# create a dataframe\n",
    "endb = {\n",
    "    \"Country\": c_list,\n",
    "\t\"GDP\": x_list,\n",
    "\t\"CO2 Emissions\": y_list\n",
    "}\n",
    "\n",
    "df = pd.DataFrame(endb)\n",
    "print(df)\n",
    "\n",
    "# to plot the graph\n",
    "df.plot(y=\"GDP\", x=\"CO2 Emissions\", kind=\"scatter\", label = \"Country\")\n",
    "plt.show()\n"
   ]
  },
  {
   "cell_type": "code",
   "execution_count": 166,
   "metadata": {},
   "outputs": [
    {
     "data": {
      "image/png": "[encoded data removed]",
      "text/plain": [
       "<Figure size 576x576 with 1 Axes>"
      ]
     },
     "metadata": {
      "needs_background": "light"
     },
     "output_type": "display_data"
    }
   ],
   "source": [
    "# libraries\n",
    "import matplotlib.pyplot as plt\n",
    "import seaborn as sns\n",
    "\n",
    "endb = {\n",
    "    \"Country\": c_list,\n",
    "\t\"GDP\": x_list,\n",
    "\t\"CO2 Emissions\": y_list\n",
    "}\n",
    "# Control figure size for this notebook:\n",
    "plt.rcParams['figure.figsize'] = [8, 8]\n",
    "\n",
    "# data \n",
    "data = pd.DataFrame(endb)\n",
    " \n",
    "# use the scatterplot function to build the bubble map\n",
    "sns.scatterplot(data=data, x=\"GDP\", y=\"CO2 Emissions\",   legend=False, sizes=(20, 2000))\n",
    "plt.xscale('log')\n",
    "plt.yscale('log')\n",
    "# show the graph\n",
    "plt.show()"
   ]
  },
  {
   "cell_type": "code",
   "execution_count": 167,
   "metadata": {},
   "outputs": [
    {
     "data": {
      "image/png": "[encoded data removed]",
      "text/plain": [
       "<Figure size 576x576 with 1 Axes>"
      ]
     },
     "metadata": {
      "needs_background": "light"
     },
     "output_type": "display_data"
    }
   ],
   "source": [
    "import seaborn as sns\n",
    "import pandas as pd\n",
    "\n",
    "endb = {\n",
    "    \"Country\": c_list,\n",
    "\t\"GDP\": x_list,\n",
    "\t\"CO2 Emissions\": y_list\n",
    "}\n",
    "# Load the data\n",
    "\n",
    "data = pd.DataFrame(endb)\n",
    "\n",
    "# Create a scatter plot with country as hue\n",
    "scatter_plot = sns.regplot(data=data, x=\"GDP\", y=\"CO2 Emissions\")\n",
    "plt.xscale('log')\n",
    "plt.yscale('log')\n",
    "# Add the country name as a tooltip when hovering over each point\n",
    "\n",
    "\n"
   ]
  }
 ],
 "metadata": {
  "kernelspec": {
   "display_name": "base",
   "language": "python",
   "name": "python3"
  },
  "language_info": {
   "codemirror_mode": {
    "name": "ipython",
    "version": 3
   },
   "file_extension": ".py",
   "mimetype": "text/x-python",
   "name": "python",
   "nbconvert_exporter": "python",
   "pygments_lexer": "ipython3",
   "version": "3.9.12"
  },
  "orig_nbformat": 4
 },
 "nbformat": 4,
 "nbformat_minor": 2
}
